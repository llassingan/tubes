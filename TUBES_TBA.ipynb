{
  "nbformat": 4,
  "nbformat_minor": 0,
  "metadata": {
    "colab": {
      "name": "TUBES_TBA.ipynb",
      "provenance": [],
      "collapsed_sections": [],
      "include_colab_link": true
    },
    "kernelspec": {
      "name": "python3",
      "display_name": "Python 3"
    }
  },
  "cells": [
    {
      "cell_type": "markdown",
      "metadata": {
        "id": "view-in-github",
        "colab_type": "text"
      },
      "source": [
        "<a href=\"https://colab.research.google.com/github/llassingan/tubes/blob/master/TUBES_TBA.ipynb\" target=\"_parent\"><img src=\"https://colab.research.google.com/assets/colab-badge.svg\" alt=\"Open In Colab\"/></a>"
      ]
    },
    {
      "cell_type": "markdown",
      "metadata": {
        "id": "VrPgszpn-686",
        "colab_type": "text"
      },
      "source": [
        "# KELAS IF-42-10\n",
        "\n",
        "ANGGOTA KELOMPOK :\n",
        "1.   ALMANIK BALINGGA\n",
        "2.   M ALFIAN M. M.\n",
        "3.   KHALIFA LYAN B.\n",
        "4.   DERIL A.F\n",
        "\n"
      ]
    },
    {
      "cell_type": "markdown",
      "metadata": {
        "id": "ORRiN3k2-u9r",
        "colab_type": "text"
      },
      "source": [
        "TUGAS PEMROGRAMAN TAHAP 1\n",
        "\n",
        "\n",
        "\n"
      ]
    },
    {
      "cell_type": "markdown",
      "metadata": {
        "id": "Bgr8CMhqOC6u",
        "colab_type": "text"
      },
      "source": [
        "Berikut adalah desain FA dari lexical anlyzer tugas tahap 1"
      ]
    },
    {
      "cell_type": "markdown",
      "metadata": {
        "id": "kHBWuGHVAzwT",
        "colab_type": "text"
      },
      "source": [
        "![teks alternatif](https://i.ibb.co/f91LnQt/tubestba.png)\n",
        "\n"
      ]
    },
    {
      "cell_type": "markdown",
      "metadata": {
        "id": "lFlJgt1dOSeN",
        "colab_type": "text"
      },
      "source": [
        "Berikut adalah fungsi is_proposisi yang nantinya akan mengembalikan nilai true atau false jika karakter yang diperiksa adalah salah proposisi atau bukan"
      ]
    },
    {
      "cell_type": "code",
      "metadata": {
        "id": "YMc-VnRSBC3Z",
        "colab_type": "code",
        "colab": {}
      },
      "source": [
        "def is_proposisi(x):\n",
        "    return x in {'p', 'q', 'r', 's'}"
      ],
      "execution_count": 0,
      "outputs": []
    },
    {
      "cell_type": "markdown",
      "metadata": {
        "id": "U7m6FMzzK9ZQ",
        "colab_type": "text"
      },
      "source": [
        "Berikut adalah fungsi is_grouping yang nantinya akan mengembalikan nilai true atau false jika karakter yang diperiksa adalah buka kurung atau tutup kurung"
      ]
    },
    {
      "cell_type": "code",
      "metadata": {
        "id": "OpDb6FWDBFFh",
        "colab_type": "code",
        "colab": {}
      },
      "source": [
        "def is_grouping(x):\n",
        "    return x in {'(', ')'}"
      ],
      "execution_count": 0,
      "outputs": []
    },
    {
      "cell_type": "markdown",
      "metadata": {
        "id": "tnqUq3yQK9UV",
        "colab_type": "text"
      },
      "source": [
        "Berikut adalah fungsi whitespace yang nantinya akan mengembalikan nilai true atau false jika karakter yang diperiksa adalah spasi/whitespace"
      ]
    },
    {
      "cell_type": "code",
      "metadata": {
        "id": "mXgfDbnCBJTv",
        "colab_type": "code",
        "colab": {}
      },
      "source": [
        "def whitespace(x):\n",
        "    return x == ' '"
      ],
      "execution_count": 0,
      "outputs": []
    },
    {
      "cell_type": "markdown",
      "metadata": {
        "id": "VaZWap_vsPOp",
        "colab_type": "text"
      },
      "source": [
        "Berikut adalah fungsi tokenizer yang berfungsi untuk mengubah operand, proposisi, dan tanda kurung menjadi token."
      ]
    },
    {
      "cell_type": "code",
      "metadata": {
        "id": "1VsdUS07OjzH",
        "colab_type": "code",
        "colab": {}
      },
      "source": [
        "def tokenizer(string):\n",
        "    i = 0\n",
        "    token = ['']\n",
        "    er = 'error'\n",
        "    while (i < len(string)) and token[-1] != er:\n",
        "        if is_proposisi(string[i]):\n",
        "            token.append(1)\n",
        "            if i < len(string):\n",
        "                i += 1\n",
        "        elif string[i] == 'n':\n",
        "            if string[i + 1] == 'o':\n",
        "                if string[i + 2] == 't' and (string[i + 3] == ' ' or is_grouping(string[i+3])):\n",
        "                    token.append(2)\n",
        "                    if i < len(string):\n",
        "                        i += 3\n",
        "                else:\n",
        "                    token.append(er)\n",
        "            else:\n",
        "                token.append(er)\n",
        "        elif string[i] == 'a':\n",
        "            if string[i + 1] == 'n':\n",
        "                if string[i + 2] == 'd' and (string[i + 3] == ' ' or is_grouping(string[i+3])):\n",
        "                    token.append(3)\n",
        "                    if i < len(string):\n",
        "                        i += 3\n",
        "                else:\n",
        "                    token.append(er)\n",
        "            else:\n",
        "                token.append(er)\n",
        "        elif string[i] == 'o':\n",
        "            if string[i + 1] == 'r' and (string[i + 2] == ' ' or is_grouping(string[i+2])):\n",
        "                token.append(4)\n",
        "                if i < len(string):\n",
        "                    i += 2\n",
        "            else:\n",
        "                token.append(er)\n",
        "        elif string[i] == 'x':\n",
        "            if string[i + 1] == 'o':\n",
        "                if string[i + 2] == 'r'and (string[i + 3] == ' ' or is_grouping(string[i+3])):\n",
        "                    token.append(5)\n",
        "                    if i < len(string):\n",
        "                        i += 3\n",
        "                else:\n",
        "                    token.append(er)\n",
        "            else:\n",
        "                token.append(er)\n",
        "        elif string[i] == 'i':\n",
        "            if string[i + 1] == 'f':\n",
        "                if string[i + 2] in {' ', 'f'}:\n",
        "                    if string[i + 2] == ' ':\n",
        "                        token.append(6)\n",
        "                    else:\n",
        "                        token.append(8)\n",
        "                    if i < len(string):\n",
        "                        i += 3\n",
        "                else:\n",
        "                    token.append(er)\n",
        "            else:\n",
        "                token.append(er)\n",
        "        elif string[i] == 't':\n",
        "            if string[i + 1] == 'h':\n",
        "                if string[i + 2] == 'e':\n",
        "                    if string[i + 3] == 'n' and (string[i + 4] == ' ' or is_grouping(string[i+4])):\n",
        "                        token.append(7)\n",
        "                        if i < len(string):\n",
        "                            i += 4\n",
        "                    else:\n",
        "                        token.append(er)\n",
        "                else:\n",
        "                    token.append(er)\n",
        "            else:\n",
        "                token.append(er)\n",
        "        elif is_grouping(string[i]):\n",
        "            if string[i] == '(':\n",
        "                token.append(9)\n",
        "            else:\n",
        "                token.append(10)\n",
        "            if i < len(string):\n",
        "                i += 1\n",
        "        elif whitespace(string[i]) and not string[i] in {'n', 'f'}:\n",
        "            i += 1\n",
        "        else:\n",
        "            token.append(er)\n",
        "    token.remove('')\n",
        "\n",
        "    return token\n",
        "\n"
      ],
      "execution_count": 0,
      "outputs": []
    },
    {
      "cell_type": "markdown",
      "metadata": {
        "colab_type": "text",
        "id": "K4LdNaEbNeEg"
      },
      "source": [
        "## TUGAS TAHAP 2"
      ]
    },
    {
      "cell_type": "code",
      "metadata": {
        "id": "S3CthI-5laq6",
        "colab_type": "code",
        "colab": {}
      },
      "source": [
        " def validasi(token):\n",
        "  stack = ['#', 'S']\n",
        "  valid = True\n",
        "  simbol = token[0]\n",
        "  i = 1\n",
        "  er = 'error'\n",
        "  while (stack[-1] != '#') and valid:\n",
        "    if (stack[-1] == 'S') and (token[i-1] != er):\n",
        "      if simbol in {1, 2, 6, 9}:\n",
        "        stack.pop()\n",
        "        if simbol == 1:\n",
        "          stack.extend(['A', 1])\n",
        "        elif simbol == 2:\n",
        "          stack.extend(['S', 2])\n",
        "        elif simbol == 6:\n",
        "          stack.extend(['S', 7, 'S', 6])\n",
        "        else:\n",
        "          stack.extend(['A', 10, 'S', 9])\n",
        "      else:\n",
        "        valid = False \n",
        "    elif (stack[-1] == 'A') and (token[i-1] != er):\n",
        "      stack.pop()\n",
        "      if simbol in {3, 4, 5, 8}:\n",
        "        if simbol == 3:\n",
        "          stack.extend(['S', 3])\n",
        "        elif simbol == 4:\n",
        "          stack.extend(['S', 4])\n",
        "        elif simbol == 5:\n",
        "          stack.extend(['S', 5])\n",
        "        else:\n",
        "          stack.extend(['S', 8])\n",
        "    elif (stack[-1] == simbol) and (token[i-1] != er):\n",
        "      stack.pop()\n",
        "      if (i < len(token)) and (stack[-1] != 7):\n",
        "        simbol = token[i]\n",
        "        i += 1\n",
        "    else:\n",
        "      valid = False\n",
        "  if (stack[-1] == '#'):\n",
        "    stack.pop()\n",
        "  if (len(stack) == 0) :\n",
        "    print('VALID')\n",
        "  else : print('TIDAK VALID')\n"
      ],
      "execution_count": 0,
      "outputs": []
    },
    {
      "cell_type": "markdown",
      "metadata": {
        "id": "K6HuMbfsuFLH",
        "colab_type": "text"
      },
      "source": [
        "Berikut adalah Test Case untuk "
      ]
    },
    {
      "cell_type": "code",
      "metadata": {
        "id": "74Hc8fy4selS",
        "colab_type": "code",
        "colab": {
          "base_uri": "https://localhost:8080/",
          "height": 51
        },
        "outputId": "3c3c16f9-9db3-43f9-f580-c0e1021fea76"
      },
      "source": [
        "#                             TEST CASE 1\n",
        "\n",
        "string = \"p and q or r\"\n",
        "a = tokenizer(string.lower())\n",
        "print(a);\n",
        "validasi(a)"
      ],
      "execution_count": 13,
      "outputs": [
        {
          "output_type": "stream",
          "text": [
            "[1, 3, 1, 4, 1]\n",
            "VALID\n"
          ],
          "name": "stdout"
        }
      ]
    },
    {
      "cell_type": "code",
      "metadata": {
        "id": "_vBByqIas6hU",
        "colab_type": "code",
        "colab": {
          "base_uri": "https://localhost:8080/",
          "height": 51
        },
        "outputId": "b977e15b-c6ac-429d-e15b-79ac99339c5e"
      },
      "source": [
        "#                             TEST CASE 2\n",
        "\n",
        "string = \"if p then (not q s)\"\n",
        "a = tokenizer(string.lower())\n",
        "print(a);\n",
        "validasi(a)"
      ],
      "execution_count": 14,
      "outputs": [
        {
          "output_type": "stream",
          "text": [
            "[6, 1, 7, 9, 2, 1, 1, 10]\n",
            "TIDAK VALID\n"
          ],
          "name": "stdout"
        }
      ]
    },
    {
      "cell_type": "code",
      "metadata": {
        "id": "l_774JP1tCmx",
        "colab_type": "code",
        "colab": {
          "base_uri": "https://localhost:8080/",
          "height": 51
        },
        "outputId": "9f318697-df28-4364-ba8e-8d3041a446aa"
      },
      "source": [
        "#                             TEST CASE 3\n",
        "\n",
        "string = \"p xor (q and not(p and q))\"\n",
        "a = tokenizer(string.lower())\n",
        "print(a);\n",
        "validasi(a)"
      ],
      "execution_count": 22,
      "outputs": [
        {
          "output_type": "stream",
          "text": [
            "[1, 5, 9, 1, 3, 2, 9, 1, 3, 1, 10, 10]\n",
            "VALID\n"
          ],
          "name": "stdout"
        }
      ]
    },
    {
      "cell_type": "code",
      "metadata": {
        "id": "NYFY-5JKtJNJ",
        "colab_type": "code",
        "colab": {
          "base_uri": "https://localhost:8080/",
          "height": 51
        },
        "outputId": "a870c8c3-26a5-4d5d-eeb6-feb0c296b222"
      },
      "source": [
        "#                             TEST CASE 4\n",
        "\n",
        "string = \"(p and q ifg(r or s)\"\n",
        "a = tokenizer(string.lower())\n",
        "print(a);\n",
        "validasi(a)"
      ],
      "execution_count": 23,
      "outputs": [
        {
          "output_type": "stream",
          "text": [
            "[9, 1, 3, 1, 'error']\n",
            "TIDAK VALID\n"
          ],
          "name": "stdout"
        }
      ]
    },
    {
      "cell_type": "code",
      "metadata": {
        "id": "t6CVE9cxwk9a",
        "colab_type": "code",
        "colab": {}
      },
      "source": [
        ""
      ],
      "execution_count": 0,
      "outputs": []
    },
    {
      "cell_type": "markdown",
      "metadata": {
        "id": "YhvNRxrgLm33",
        "colab_type": "text"
      },
      "source": [
        "Untuk Mencoba Input kedalam fungsi"
      ]
    },
    {
      "cell_type": "code",
      "metadata": {
        "id": "XRfy0oh2KIil",
        "colab_type": "code",
        "colab": {}
      },
      "source": [
        "#<<<< Click\n",
        "a = tokenizer(input(\"input : \").lower())\n",
        "print(a);\n",
        "validasi(a)"
      ],
      "execution_count": 0,
      "outputs": []
    }
  ]
}