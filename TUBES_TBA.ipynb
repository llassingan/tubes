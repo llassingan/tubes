{
  "nbformat": 4,
  "nbformat_minor": 0,
  "metadata": {
    "colab": {
      "name": "TUBES_TBA.ipynb",
      "provenance": [],
      "collapsed_sections": [],
      "include_colab_link": true
    },
    "kernelspec": {
      "name": "python3",
      "display_name": "Python 3"
    }
  },
  "cells": [
    {
      "cell_type": "markdown",
      "metadata": {
        "id": "view-in-github",
        "colab_type": "text"
      },
      "source": [
        "<a href=\"https://colab.research.google.com/github/llassingan/tubes/blob/master/TUBES_TBA.ipynb\" target=\"_parent\"><img src=\"https://colab.research.google.com/assets/colab-badge.svg\" alt=\"Open In Colab\"/></a>"
      ]
    },
    {
      "cell_type": "markdown",
      "metadata": {
        "id": "VrPgszpn-686",
        "colab_type": "text"
      },
      "source": [
        "# KELAS IF-42-10\n",
        "\n",
        "ANGGOTA KELOMPOK :\n",
        "1.   ALMANIK BALINGGA\n",
        "2.   M ALFIAN M. M.\n",
        "3.   KHALIFA LYAN B.\n",
        "4.   DERIL A.F\n",
        "\n"
      ]
    },
    {
      "cell_type": "markdown",
      "metadata": {
        "id": "ORRiN3k2-u9r",
        "colab_type": "text"
      },
      "source": [
        "TUGAS PEMROGRAMAN TAHAP 1\n",
        "\n",
        "\n",
        "\n"
      ]
    },
    {
      "cell_type": "markdown",
      "metadata": {
        "id": "Bgr8CMhqOC6u",
        "colab_type": "text"
      },
      "source": [
        "Berikut adalah desain FA dari lexical anlyzer tugas tahap 1"
      ]
    },
    {
      "cell_type": "markdown",
      "metadata": {
        "id": "kHBWuGHVAzwT",
        "colab_type": "text"
      },
      "source": [
        "![teks alternatif](https://i.ibb.co/6YqkL4p/Untitled-1.jpg)\n",
        "\n"
      ]
    },
    {
      "cell_type": "markdown",
      "metadata": {
        "id": "lFlJgt1dOSeN",
        "colab_type": "text"
      },
      "source": [
        "Berikut adalah fungsi is_proposisi yang nantinya akan mengembalikan nilai true atau false jika karakter yang diperiksa adalah salah proposisi atau bukan"
      ]
    },
    {
      "cell_type": "code",
      "metadata": {
        "id": "YMc-VnRSBC3Z",
        "colab_type": "code",
        "colab": {}
      },
      "source": [
        "def is_proposisi(x):\n",
        "    return x in {'p', 'q', 'r', 's'}"
      ],
      "execution_count": 0,
      "outputs": []
    },
    {
      "cell_type": "markdown",
      "metadata": {
        "id": "U7m6FMzzK9ZQ",
        "colab_type": "text"
      },
      "source": [
        "Berikut adalah fungsi is_grouping yang nantinya akan mengembalikan nilai true atau false jika karakter yang diperiksa adalah buka kurung atau tutup kurung"
      ]
    },
    {
      "cell_type": "code",
      "metadata": {
        "id": "OpDb6FWDBFFh",
        "colab_type": "code",
        "colab": {}
      },
      "source": [
        "def is_grouping(x):\n",
        "    return x in {'(', ')'}"
      ],
      "execution_count": 0,
      "outputs": []
    },
    {
      "cell_type": "markdown",
      "metadata": {
        "id": "tnqUq3yQK9UV",
        "colab_type": "text"
      },
      "source": [
        "Berikut adalah fungsi whitespace yang nantinya akan mengembalikan nilai true atau false jika karakter yang diperiksa adalah spasi/whitespace"
      ]
    },
    {
      "cell_type": "code",
      "metadata": {
        "id": "mXgfDbnCBJTv",
        "colab_type": "code",
        "colab": {}
      },
      "source": [
        "def whitespace(x):\n",
        "    return x == ' '"
      ],
      "execution_count": 0,
      "outputs": []
    },
    {
      "cell_type": "code",
      "metadata": {
        "id": "1VsdUS07OjzH",
        "colab_type": "code",
        "outputId": "94f0a41f-7879-4bcd-cf69-ad29ab52f1f1",
        "colab": {
          "base_uri": "https://localhost:8080/",
          "height": 34
        }
      },
      "source": [
        "def tokenizer(string):\n",
        "    i = 0\n",
        "    token = ['']\n",
        "    er = 'error'\n",
        "    while (i < len(string)) and token[-1] != er:\n",
        "        if is_proposisi(string[i]):\n",
        "            token.append(1)\n",
        "            if i < len(string):\n",
        "                i += 1\n",
        "        elif string[i] == 'n':\n",
        "            if string[i + 1] == 'o':\n",
        "                if string[i + 2] == 't' and (string[i + 3] == ' ' or is_grouping(string[i+4])):\n",
        "                    token.append(2)\n",
        "                    if i < len(string):\n",
        "                        i += 3\n",
        "                else:\n",
        "                    token.append(er)\n",
        "            else:\n",
        "                token.append(er)\n",
        "        elif string[i] == 'a':\n",
        "            if string[i + 1] == 'n':\n",
        "                if string[i + 2] == 'd' and (string[i + 3] == ' ' or is_grouping(string[i+3])):\n",
        "                    token.append(3)\n",
        "                    if i < len(string):\n",
        "                        i += 3\n",
        "                else:\n",
        "                    token.append(er)\n",
        "            else:\n",
        "                token.append(er)\n",
        "        elif string[i] == 'o':\n",
        "            if string[i + 1] == 'r' and (string[i + 2] == ' ' or is_grouping(string[i+3])):\n",
        "                token.append(4)\n",
        "                if i < len(string):\n",
        "                    i += 2\n",
        "            else:\n",
        "                token.append(er)\n",
        "        elif string[i] == 'x':\n",
        "            if string[i + 1] == 'o':\n",
        "                if string[i + 2] == 'r'and (string[i + 3] == ' ' or is_grouping(string[i+3])):\n",
        "                    token.append(5)\n",
        "                    if i < len(string):\n",
        "                        i += 3\n",
        "                else:\n",
        "                    token.append(er)\n",
        "            else:\n",
        "                token.append(er)\n",
        "        elif string[i] == 'i':\n",
        "            if string[i + 1] == 'f':\n",
        "                if string[i + 2] in {' ', 'f'}:\n",
        "                    if (string[i + 2] == ' ' or is_proposisi(string[i+3])):\n",
        "                        token.append(6)\n",
        "                    else:\n",
        "                        token.append(8)\n",
        "                    if i < len(string):\n",
        "                        i += 3\n",
        "                else:\n",
        "                    token.append(er)\n",
        "            else:\n",
        "                token.append(er)\n",
        "        elif string[i] == 't':\n",
        "            if string[i + 1] == 'h':\n",
        "                if string[i + 2] == 'e':\n",
        "                    if string[i + 3] == 'n' and (string[i + 4] == ' ' or is_grouping(string[i+4])):\n",
        "                        token.append(7)\n",
        "                        if i < len(string):\n",
        "                            i += 4\n",
        "                    else:\n",
        "                        token.append(er)\n",
        "                else:\n",
        "                    token.append(er)\n",
        "            else:\n",
        "                token.append(er)\n",
        "        elif is_grouping(string[i]):\n",
        "            if string[i] == '(':\n",
        "                token.append(9)\n",
        "            else:\n",
        "                token.append(10)\n",
        "            if i < len(string):\n",
        "                i += 1\n",
        "        elif whitespace(string[i]) and not string[i] in {'n', 'f'}:\n",
        "            i += 1\n",
        "        else:\n",
        "            token.append(er)\n",
        "    token.remove('')\n",
        "\n",
        "    return token\n",
        "\n",
        "#test case   p or (q ande r)\n",
        "#test case    if                                                               (p or q)         then  (q and r)\n",
        "#test case if (p or (q and r)) then q\")"
      ],
      "execution_count": 18,
      "outputs": [
        {
          "output_type": "execute_result",
          "data": {
            "text/plain": [
              "[6, 9, 1, 4, 1, 10, 7, 9, 1, 'error']"
            ]
          },
          "metadata": {
            "tags": []
          },
          "execution_count": 18
        }
      ]
    },
    {
      "cell_type": "markdown",
      "metadata": {
        "id": "YhvNRxrgLm33",
        "colab_type": "text"
      },
      "source": [
        "Untuk Mencoba Input kedalam fungsi"
      ]
    },
    {
      "cell_type": "code",
      "metadata": {
        "id": "XRfy0oh2KIil",
        "colab_type": "code",
        "colab": {}
      },
      "source": [
        "#<<<< Click\n",
        "tokenizer(input().lower())"
      ],
      "execution_count": 0,
      "outputs": []
    },
    {
      "cell_type": "markdown",
      "metadata": {
        "colab_type": "text",
        "id": "K4LdNaEbNeEg"
      },
      "source": [
        "## TUGAS TAHAP 2"
      ]
    },
    {
      "cell_type": "code",
      "metadata": {
        "id": "9-ZFkEtpRlrp",
        "colab_type": "code",
        "colab": {}
      },
      "source": [
        "def is_proposisii(x):\n",
        "    return x == 1"
      ],
      "execution_count": 0,
      "outputs": []
    },
    {
      "cell_type": "code",
      "metadata": {
        "id": "Hp6lH145PPt6",
        "colab_type": "code",
        "colab": {}
      },
      "source": [
        "def is_leftgroup(x):\n",
        "    return x == 9"
      ],
      "execution_count": 0,
      "outputs": []
    },
    {
      "cell_type": "code",
      "metadata": {
        "id": "sfE-26_6PTZh",
        "colab_type": "code",
        "colab": {}
      },
      "source": [
        "def is_rightgroup(x):\n",
        "    return x == 10"
      ],
      "execution_count": 0,
      "outputs": []
    },
    {
      "cell_type": "code",
      "metadata": {
        "id": "61AC8ENnRAJS",
        "colab_type": "code",
        "colab": {}
      },
      "source": [
        "def is_not(x):\n",
        "  return x == 2"
      ],
      "execution_count": 0,
      "outputs": []
    },
    {
      "cell_type": "code",
      "metadata": {
        "id": "CzD6S92MRxuX",
        "colab_type": "code",
        "colab": {}
      },
      "source": [
        "def is_and(x):\n",
        "  return x == 3"
      ],
      "execution_count": 0,
      "outputs": []
    },
    {
      "cell_type": "code",
      "metadata": {
        "id": "7qwnRQtzR_yq",
        "colab_type": "code",
        "colab": {}
      },
      "source": [
        "def is_or(x):\n",
        "  return x == 4"
      ],
      "execution_count": 0,
      "outputs": []
    },
    {
      "cell_type": "code",
      "metadata": {
        "id": "mQS9Sr3ZSGnF",
        "colab_type": "code",
        "colab": {}
      },
      "source": [
        "def is_xor(x):\n",
        "  return x == 5"
      ],
      "execution_count": 0,
      "outputs": []
    },
    {
      "cell_type": "code",
      "metadata": {
        "id": "GKU2JVbfSLSG",
        "colab_type": "code",
        "colab": {}
      },
      "source": [
        "def is_if(x):\n",
        "  return x == 6"
      ],
      "execution_count": 0,
      "outputs": []
    },
    {
      "cell_type": "code",
      "metadata": {
        "id": "8JFOs3VsSWvN",
        "colab_type": "code",
        "colab": {}
      },
      "source": [
        "def is_then(x):\n",
        "  return x == 7"
      ],
      "execution_count": 0,
      "outputs": []
    },
    {
      "cell_type": "code",
      "metadata": {
        "id": "7aNwmxhQSaGP",
        "colab_type": "code",
        "colab": {}
      },
      "source": [
        "def is_iff(x):\n",
        "  return x == 8"
      ],
      "execution_count": 0,
      "outputs": []
    },
    {
      "cell_type": "code",
      "metadata": {
        "id": "d9fPnYFqSv1a",
        "colab_type": "code",
        "colab": {}
      },
      "source": [
        "def is_error(x):\n",
        "  return x == 'error'"
      ],
      "execution_count": 0,
      "outputs": []
    },
    {
      "cell_type": "code",
      "metadata": {
        "id": "wB2Mxyv8S8IE",
        "colab_type": "code",
        "colab": {}
      },
      "source": [
        "def checker(string):\n",
        "  i = 0\n",
        "  panjang = len(string)\n",
        "  while ((i < panjang) and not is_error(string[i])):\n",
        "      break\n",
        "  print(panjang)\n"
      ],
      "execution_count": 0,
      "outputs": []
    }
  ]
}